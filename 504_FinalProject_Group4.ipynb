{
  "nbformat": 4,
  "nbformat_minor": 0,
  "metadata": {
    "colab": {
      "name": "504_FinalProject_Group4.ipynb",
      "provenance": []
    },
    "kernelspec": {
      "name": "python3",
      "display_name": "Python 3"
    },
    "language_info": {
      "name": "python"
    }
  },
  "cells": [
    {
      "cell_type": "code",
      "execution_count": 1,
      "metadata": {
        "id": "dhRc1b1EXiTS"
      },
      "outputs": [],
      "source": [
        "import pandas as pd"
      ]
    },
    {
      "cell_type": "code",
      "source": [
        "d012 = pd.read_csv('https://raw.githubusercontent.com/OscarG-DataSci/ADS504/main/diabetes_012_health_indicators_BRFSS2015.csv')\n",
        "\n",
        "d5050 = pd.read_csv('https://raw.githubusercontent.com/OscarG-DataSci/ADS504/main/diabetes_binary_5050split_health_indicators_BRFSS2015.csv')\n",
        "\n",
        "dbinary = pd.read_csv('https://raw.githubusercontent.com/OscarG-DataSci/ADS504/main/diabetes_binary_health_indicators_BRFSS2015.csv')"
      ],
      "metadata": {
        "id": "u5ufBSk2_hNe"
      },
      "execution_count": 4,
      "outputs": []
    },
    {
      "cell_type": "code",
      "source": [
        "print(\"d012 shape:\")\n",
        "print(d012.shape)\n",
        "\n",
        "print(\"\")\n",
        "\n",
        "print(\"d5050 shape:\")\n",
        "print(d5050.shape)\n",
        "\n",
        "print(\"\")\n",
        "\n",
        "print(\"dbinary shape:\")\n",
        "print(dbinary.shape)"
      ],
      "metadata": {
        "colab": {
          "base_uri": "https://localhost:8080/"
        },
        "id": "qyvrzeAxAFu_",
        "outputId": "ae6ec334-fa0d-4bb2-dc25-51cc79239d7b"
      },
      "execution_count": 6,
      "outputs": [
        {
          "output_type": "stream",
          "name": "stdout",
          "text": [
            "d012 shape:\n",
            "(253680, 22)\n",
            "\n",
            "d5050 shape:\n",
            "(70692, 22)\n",
            "\n",
            "dbinary shape:\n",
            "(253680, 22)\n"
          ]
        }
      ]
    }
  ]
}